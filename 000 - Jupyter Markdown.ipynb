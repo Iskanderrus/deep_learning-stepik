{
 "cells": [
  {
   "cell_type": "markdown",
   "id": "eab70684",
   "metadata": {},
   "source": [
    "## Headings"
   ]
  },
  {
   "cell_type": "markdown",
   "id": "c6ebbf13",
   "metadata": {},
   "source": [
    "# Heading level 1"
   ]
  },
  {
   "cell_type": "markdown",
   "id": "9dc85b6a",
   "metadata": {},
   "source": [
    "## Heading level 2"
   ]
  },
  {
   "cell_type": "markdown",
   "id": "4f51d400",
   "metadata": {},
   "source": [
    "### Heading level 3"
   ]
  },
  {
   "cell_type": "markdown",
   "id": "3642e4bf",
   "metadata": {},
   "source": [
    "#### Heading level 4"
   ]
  },
  {
   "cell_type": "markdown",
   "id": "63b64605",
   "metadata": {},
   "source": [
    "#### Heading level 5"
   ]
  },
  {
   "cell_type": "markdown",
   "id": "b16d16c6",
   "metadata": {},
   "source": [
    "##### Heading level 6"
   ]
  },
  {
   "cell_type": "markdown",
   "id": "e6f18fc6",
   "metadata": {},
   "source": [
    "## Paragraphs"
   ]
  },
  {
   "cell_type": "markdown",
   "id": "ac936a37",
   "metadata": {},
   "source": [
    "This is first paragraph.\n",
    "\n",
    "This is second paragraph. \n",
    "\n",
    "And there was enter pressed between these two. "
   ]
  },
  {
   "cell_type": "markdown",
   "id": "17c8e2ca",
   "metadata": {},
   "source": [
    "## Line Breaks"
   ]
  },
  {
   "cell_type": "markdown",
   "id": "993ac840",
   "metadata": {},
   "source": [
    "This is first string.  \n",
    "This is second string.  \n",
    "And there are two invisible spaces on the end of the string to replace '''< br >'''"
   ]
  },
  {
   "cell_type": "markdown",
   "id": "b7eb63d0",
   "metadata": {},
   "source": [
    "## Bold text"
   ]
  },
  {
   "cell_type": "markdown",
   "id": "31f89069",
   "metadata": {},
   "source": [
    "This is **bold text**.    \n",
    "\n",
    "This is __bold text__ as well."
   ]
  },
  {
   "cell_type": "markdown",
   "id": "b5cb01c5",
   "metadata": {},
   "source": [
    "## Italic"
   ]
  },
  {
   "cell_type": "markdown",
   "id": "bd20e6ce",
   "metadata": {},
   "source": [
    "This text is *italic*.  \n",
    "\n",
    "And this one is _italic_ as well. "
   ]
  },
  {
   "cell_type": "markdown",
   "id": "c86a4111",
   "metadata": {},
   "source": [
    "## Bold and Italic"
   ]
  },
  {
   "cell_type": "markdown",
   "id": "d4648111",
   "metadata": {},
   "source": [
    "***Some*** Italians are bold. \n",
    "___Some___ Italians are not. \n",
    "__*This*__ Italian is bold. \n",
    "**_This_** one too but doesn't care. "
   ]
  },
  {
   "cell_type": "markdown",
   "id": "1d7572cc",
   "metadata": {},
   "source": [
    "## Blockquotes"
   ]
  },
  {
   "cell_type": "markdown",
   "id": "487bc832",
   "metadata": {},
   "source": [
    "> <-- This is a blockqote 8-o"
   ]
  },
  {
   "cell_type": "markdown",
   "id": "67fabadf",
   "metadata": {},
   "source": [
    "## Blockqoutes with Multiple Paragraphs"
   ]
  },
  {
   "cell_type": "markdown",
   "id": "640b56de",
   "metadata": {},
   "source": [
    "> This is the first paragraph. \n",
    ">\n",
    "> This is the second paragraph. "
   ]
  },
  {
   "cell_type": "markdown",
   "id": "e552f986",
   "metadata": {},
   "source": [
    "## Nested Blockquotes"
   ]
  },
  {
   "cell_type": "markdown",
   "id": "4d47d7f6",
   "metadata": {},
   "source": [
    "> This is blockquote. \n",
    "> \n",
    ">> And this one is nested one. "
   ]
  },
  {
   "cell_type": "markdown",
   "id": "e63eab2d",
   "metadata": {},
   "source": [
    "## Blockquotes with other elements"
   ]
  },
  {
   "cell_type": "markdown",
   "id": "01ac53ef",
   "metadata": {},
   "source": [
    "> ##### The quarterly results look great! _(really?!)_\n",
    ">\n",
    "> - Revenue was off the chart. \n",
    "> - Profits were higher than ever. \n",
    "> \n",
    "> *Everything* is going **well**. _(...for management)_"
   ]
  },
  {
   "cell_type": "markdown",
   "id": "24f563dd",
   "metadata": {},
   "source": [
    "## Ordered Lists"
   ]
  },
  {
   "cell_type": "markdown",
   "id": "26f9cc84",
   "metadata": {},
   "source": [
    "1. One\n",
    "2. Two\n",
    "3. Three"
   ]
  },
  {
   "cell_type": "markdown",
   "id": "e6726d31",
   "metadata": {},
   "source": [
    "## Nested ordered lists"
   ]
  },
  {
   "cell_type": "markdown",
   "id": "38e932d1",
   "metadata": {},
   "source": [
    "1. One\n",
    "2. Two\n",
    "    1. Two but one\n",
    "    2. Real two\n",
    "3. Three"
   ]
  },
  {
   "cell_type": "markdown",
   "id": "1503f523",
   "metadata": {},
   "source": [
    "## Unordered lists"
   ]
  },
  {
   "cell_type": "markdown",
   "id": "7ebbcfef",
   "metadata": {},
   "source": [
    "- Line\n",
    "- Line\n",
    "- Line as well\n",
    "\n",
    "\n",
    "* Line\n",
    "* Line\n",
    "* Line as well\n",
    "\n",
    "\n",
    "+ Line\n",
    "* Line \n",
    "- Line as well\n",
    "+ One more"
   ]
  },
  {
   "cell_type": "markdown",
   "id": "7c4b3f3d",
   "metadata": {},
   "source": [
    "## Nested unordered lists"
   ]
  },
  {
   "cell_type": "markdown",
   "id": "d3bcb57d",
   "metadata": {},
   "source": [
    "- One\n",
    "- Two\n",
    "    - Two one\n",
    "    - Two two\n",
    "- Three"
   ]
  },
  {
   "cell_type": "markdown",
   "id": "66505869",
   "metadata": {},
   "source": [
    "## Code Blocks"
   ]
  },
  {
   "cell_type": "markdown",
   "id": "91a5edf2",
   "metadata": {},
   "source": [
    "1. Open the file. \n",
    "2. Find the following code block on line 21: \n",
    "        \n",
    "        <html>\n",
    "          <head>\n",
    "             <title>Test</title>\n",
    "          </head>\n",
    "          \n",
    "3. Update the title to match the name of your website. "
   ]
  },
  {
   "cell_type": "markdown",
   "id": "0c8515d6",
   "metadata": {},
   "source": [
    "## Images"
   ]
  },
  {
   "cell_type": "markdown",
   "id": "dc01e2b0",
   "metadata": {},
   "source": [
    "![Russian humor](IMG-20220310-WA0001.jpg \"McDonalds quit business in Russia: Russians in Summer 2022\")"
   ]
  },
  {
   "cell_type": "markdown",
   "id": "66507da5",
   "metadata": {},
   "source": [
    "### Image resize"
   ]
  },
  {
   "cell_type": "markdown",
   "id": "703ff411",
   "metadata": {},
   "source": [
    "<div>\n",
    "<img src=\"IMG-20220310-WA0001.jpg\" alt=\"Russian humor\" width=\"300\" title=\"McDonalds quits business in Russia: Russians in Summer 2022\"/>\n",
    "</div>"
   ]
  },
  {
   "cell_type": "markdown",
   "id": "f07fbd08",
   "metadata": {},
   "source": [
    "## Code"
   ]
  },
  {
   "cell_type": "markdown",
   "id": "2fd0ae44",
   "metadata": {},
   "source": [
    "To print a varaible `a` to console just use `print(a)` command."
   ]
  },
  {
   "cell_type": "markdown",
   "id": "30ec8838",
   "metadata": {},
   "source": [
    "json File: \n",
    "```json\n",
    "{\n",
    "    \"firstName\": \"John\", \n",
    "    \"lastName\": \"Smith\", \n",
    "    \"age\": 35\n",
    "}\n",
    "```"
   ]
  },
  {
   "cell_type": "markdown",
   "id": "0e6c1bae",
   "metadata": {},
   "source": [
    "Python: \n",
    "```python\n",
    "    print([a**2 for a in list])\n",
    "\n",
    "```"
   ]
  },
  {
   "cell_type": "markdown",
   "id": "b6c90759",
   "metadata": {},
   "source": [
    "## Excaping trick marks"
   ]
  },
  {
   "cell_type": "markdown",
   "id": "36252d34",
   "metadata": {},
   "source": [
    "``a = [`Anna`, `Alex`, `Bruno`]``"
   ]
  },
  {
   "cell_type": "markdown",
   "id": "685e8cc3",
   "metadata": {},
   "source": [
    "## Horizontal rules"
   ]
  },
  {
   "cell_type": "markdown",
   "id": "1f8ffb88",
   "metadata": {},
   "source": [
    "***"
   ]
  },
  {
   "cell_type": "markdown",
   "id": "b8a7fcda",
   "metadata": {},
   "source": [
    "---"
   ]
  },
  {
   "cell_type": "markdown",
   "id": "365e1d0a",
   "metadata": {},
   "source": [
    "_______"
   ]
  },
  {
   "cell_type": "markdown",
   "id": "0e12927f",
   "metadata": {},
   "source": [
    "## Links"
   ]
  },
  {
   "cell_type": "markdown",
   "id": "5617830a",
   "metadata": {},
   "source": [
    "Use [Google](https://www.google.com)... they already know __all__  \n",
    "**[Google](https://www.google.com)**  \n",
    "Oh, _[Google...](https://www.google.com)_"
   ]
  },
  {
   "cell_type": "markdown",
   "id": "a4a34bc3",
   "metadata": {},
   "source": [
    "### Adding titles"
   ]
  },
  {
   "cell_type": "markdown",
   "id": "1aebffdb",
   "metadata": {},
   "source": [
    "Use [Google](https://www.google.com \"They know... even if they pretend they don't\")..."
   ]
  },
  {
   "cell_type": "markdown",
   "id": "cef489d7",
   "metadata": {},
   "source": [
    "### URLs and email"
   ]
  },
  {
   "cell_type": "markdown",
   "id": "8358c84b",
   "metadata": {},
   "source": [
    "<https://google.com>  \n",
    "<fake_mail@spamsender.com>"
   ]
  },
  {
   "cell_type": "markdown",
   "id": "402d129b",
   "metadata": {},
   "source": [
    "## Escaping characters"
   ]
  },
  {
   "cell_type": "markdown",
   "id": "f96db52f",
   "metadata": {},
   "source": [
    "\\* Without backslash (\"\\\") this would be a bullet in an unordered list. "
   ]
  },
  {
   "cell_type": "markdown",
   "id": "a8854e7e",
   "metadata": {},
   "source": [
    "##### Characters you can escape"
   ]
  },
  {
   "cell_type": "markdown",
   "id": "efe3db03",
   "metadata": {},
   "source": [
    "| Character | Name |\n",
    "| :--------- | :----: |\n",
    "| \\         | backslash|\n",
    "|\\`         | tickmark|\n",
    "| *         | asterisk|\n",
    "| _         | underscore|\n",
    "| {}        | curly braces|\n",
    "| \\[\\]      | brackets| \n",
    "| ()        | parentheses|\n",
    "| #         | poundsign| \n",
    "| +         | plus sign| \n",
    "| -         | minus sign| \n",
    "| .         | dot| \n",
    "| !         | exclamation mark| "
   ]
  },
  {
   "cell_type": "markdown",
   "id": "9a580fc1",
   "metadata": {},
   "source": [
    "## Strike through"
   ]
  },
  {
   "cell_type": "markdown",
   "id": "aa54dc2e",
   "metadata": {},
   "source": [
    "This world i ~~flat~~ round. "
   ]
  },
  {
   "cell_type": "markdown",
   "id": "f95157d6",
   "metadata": {},
   "source": [
    "## Task Lists"
   ]
  },
  {
   "cell_type": "markdown",
   "id": "5a5e6d48",
   "metadata": {},
   "source": [
    "- [x] This is done. \n",
    "- [ ] Has to be done. \n",
    "- [ ] ... maybe..."
   ]
  }
 ],
 "metadata": {
  "kernelspec": {
   "display_name": "Python 3 (ipykernel)",
   "language": "python",
   "name": "python3"
  },
  "language_info": {
   "codemirror_mode": {
    "name": "ipython",
    "version": 3
   },
   "file_extension": ".py",
   "mimetype": "text/x-python",
   "name": "python",
   "nbconvert_exporter": "python",
   "pygments_lexer": "ipython3",
   "version": "3.8.12"
  },
  "toc": {
   "base_numbering": 1,
   "nav_menu": {},
   "number_sections": true,
   "sideBar": true,
   "skip_h1_title": false,
   "title_cell": "Table of Contents",
   "title_sidebar": "Contents",
   "toc_cell": false,
   "toc_position": {},
   "toc_section_display": true,
   "toc_window_display": true
  },
  "varInspector": {
   "cols": {
    "lenName": 16,
    "lenType": 16,
    "lenVar": 40
   },
   "kernels_config": {
    "python": {
     "delete_cmd_postfix": "",
     "delete_cmd_prefix": "del ",
     "library": "var_list.py",
     "varRefreshCmd": "print(var_dic_list())"
    },
    "r": {
     "delete_cmd_postfix": ") ",
     "delete_cmd_prefix": "rm(",
     "library": "var_list.r",
     "varRefreshCmd": "cat(var_dic_list()) "
    }
   },
   "types_to_exclude": [
    "module",
    "function",
    "builtin_function_or_method",
    "instance",
    "_Feature"
   ],
   "window_display": false
  }
 },
 "nbformat": 4,
 "nbformat_minor": 5
}
